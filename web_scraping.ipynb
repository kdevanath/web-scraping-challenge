{
 "cells": [
  {
   "cell_type": "code",
   "execution_count": 40,
   "metadata": {},
   "outputs": [],
   "source": [
    "import os\n",
    "import re\n",
    "from splinter import Browser\n",
    "import requests\n",
    "import pandas as pd"
   ]
  },
  {
   "cell_type": "code",
   "execution_count": 19,
   "metadata": {},
   "outputs": [],
   "source": [
    "from bs4 import BeautifulSoup\n",
    "from webdriver_manager.chrome import ChromeDriverManager"
   ]
  },
  {
   "cell_type": "code",
   "execution_count": 20,
   "metadata": {},
   "outputs": [
    {
     "name": "stderr",
     "output_type": "stream",
     "text": [
      "[WDM] - Current google-chrome version is 87.0.4280\n",
      "[WDM] - Get LATEST driver version for 87.0.4280\n",
      "[WDM] - Get LATEST driver version for 87.0.4280\n",
      "[WDM] - Trying to download new driver from http://chromedriver.storage.googleapis.com/87.0.4280.88/chromedriver_mac64.zip\n"
     ]
    },
    {
     "name": "stdout",
     "output_type": "stream",
     "text": [
      " \n"
     ]
    },
    {
     "name": "stderr",
     "output_type": "stream",
     "text": [
      "[WDM] - Driver has been saved in cache [/Users/penndata/.wdm/drivers/chromedriver/mac64/87.0.4280.88]\n"
     ]
    }
   ],
   "source": [
    "executable_path = {'executable_path': ChromeDriverManager().install()}\n",
    "browser = Browser('chrome', **executable_path, headless=False)"
   ]
  },
  {
   "cell_type": "code",
   "execution_count": 56,
   "metadata": {},
   "outputs": [],
   "source": [
    "base_url = 'https://www.jpl.nasa.gov'\n",
    "mars_dict = {}"
   ]
  },
  {
   "cell_type": "code",
   "execution_count": 22,
   "metadata": {},
   "outputs": [],
   "source": [
    "# Create a Beautiful Soup object\n",
    "news_url = 'https://mars.nasa.gov/news/'\n",
    "browser.visit(news_url)\n",
    "html = browser.html\n",
    "news_soup = BeautifulSoup(html, 'html.parser')\n",
    "#news_response  = requests.get('https://mars.nasa.gov/news/?page=0&per_page=40&order=publish_date+desc%2Ccreated_at+desc&search=&category=19%2C165%2C184%2C204&blank_scope=Latest')\n",
    "news_titles = news_soup.find_all('div', class_='content_title')\n",
    "news_titles[0].text\n",
    "news_p = news_soup.find('div', class_='article_teaser_body')"
   ]
  },
  {
   "cell_type": "code",
   "execution_count": 23,
   "metadata": {},
   "outputs": [],
   "source": [
    "artcticle_dict = {}\n",
    "artcticle_dict[news_titles[0].text] = news_p.text"
   ]
  },
  {
   "cell_type": "code",
   "execution_count": 24,
   "metadata": {},
   "outputs": [
    {
     "data": {
      "text/plain": [
       "{'Mars Now': \"The symbols, mottos, and small objects added to the agency's newest Mars rover serve a variety of purposes, from functional to decorative.\"}"
      ]
     },
     "execution_count": 24,
     "metadata": {},
     "output_type": "execute_result"
    }
   ],
   "source": [
    "artcticle_dict"
   ]
  },
  {
   "cell_type": "code",
   "execution_count": 25,
   "metadata": {},
   "outputs": [
    {
     "name": "stdout",
     "output_type": "stream",
     "text": [
      "https://www.jpl.nasa.gov/spaceimages/?search=&category=Mars\n"
     ]
    }
   ],
   "source": [
    "image_url = '/spaceimages/?search=&category=Mars'\n",
    "url = f'{base_url}{image_url}'\n",
    "print(url)\n",
    "browser.visit(url)\n",
    "html = browser.html\n",
    "# Retrieve page with the requests module\n",
    "#response = requests.get(url)"
   ]
  },
  {
   "cell_type": "code",
   "execution_count": 26,
   "metadata": {},
   "outputs": [],
   "source": [
    "# Create BeautifulSoup object; parse with 'html.parser'\n",
    "image_soup = BeautifulSoup(html, 'html.parser')"
   ]
  },
  {
   "cell_type": "code",
   "execution_count": 27,
   "metadata": {},
   "outputs": [],
   "source": [
    "results = image_soup.find('article', class_=\"carousel_item\")\n",
    "image_url = re.findall(r\"'(.*?)'\", results.attrs['style'])\n",
    "featured_image_url = f'{base_url}{image_url[0]}'"
   ]
  },
  {
   "cell_type": "code",
   "execution_count": 28,
   "metadata": {},
   "outputs": [
    {
     "data": {
      "text/plain": [
       "'https://www.jpl.nasa.gov/spaceimages/images/wallpaper/PIA19346-1920x1200.jpg'"
      ]
     },
     "execution_count": 28,
     "metadata": {},
     "output_type": "execute_result"
    }
   ],
   "source": [
    "featured_image_url"
   ]
  },
  {
   "cell_type": "code",
   "execution_count": 34,
   "metadata": {},
   "outputs": [],
   "source": [
    "mars_facts_url = 'https://space-facts.com/mars/'\n",
    "response_facts = requests.get(mars_facts_url)\n",
    "mars_facts_soup = BeautifulSoup(response_facts.text, 'html.parser')"
   ]
  },
  {
   "cell_type": "code",
   "execution_count": 35,
   "metadata": {},
   "outputs": [],
   "source": [
    "facts_table = mars_facts_soup.find('table',class_='tablepress')"
   ]
  },
  {
   "cell_type": "code",
   "execution_count": 39,
   "metadata": {},
   "outputs": [
    {
     "data": {
      "text/plain": [
       "'Equatorial Diameter:6,792 kmPolar Diameter:6,752 kmMass:6.39 × 10^23 kg (0.11 Earths)Moons:2 (Phobos & Deimos)Orbit Distance:227,943,824 km (1.38 AU)Orbit Period:687 days (1.9 years)Surface Temperature: -87 to -5 °CFirst Record:2nd millennium BCRecorded By:Egyptian astronomers'"
      ]
     },
     "execution_count": 39,
     "metadata": {},
     "output_type": "execute_result"
    }
   ],
   "source": [
    "facts_table.text"
   ]
  },
  {
   "cell_type": "code",
   "execution_count": 37,
   "metadata": {},
   "outputs": [
    {
     "name": "stdout",
     "output_type": "stream",
     "text": [
      "<tbody><tr class=\"row-1 odd\"><td class=\"column-1\"><strong>Equatorial Diameter:</strong></td><td class=\"column-2\">6,792 km<br/></td></tr><tr class=\"row-2 even\"><td class=\"column-1\"><strong>Polar Diameter:</strong></td><td class=\"column-2\">6,752 km<br/></td></tr><tr class=\"row-3 odd\"><td class=\"column-1\"><strong>Mass:</strong></td><td class=\"column-2\">6.39 × 10^23 kg<br/> (0.11 Earths)</td></tr><tr class=\"row-4 even\"><td class=\"column-1\"><strong>Moons:</strong></td><td class=\"column-2\">2 (<a href=\"https://space-facts.com/moons/phobos/\">Phobos</a> &amp; <a href=\"https://space-facts.com/moons/deimos/\">Deimos</a>)</td></tr><tr class=\"row-5 odd\"><td class=\"column-1\"><strong>Orbit Distance:</strong></td><td class=\"column-2\">227,943,824 km<br/> (1.38 AU)</td></tr><tr class=\"row-6 even\"><td class=\"column-1\"><strong>Orbit Period:</strong></td><td class=\"column-2\">687 days (1.9 years)<br/></td></tr><tr class=\"row-7 odd\"><td class=\"column-1\"><strong>Surface Temperature: </strong></td><td class=\"column-2\">-87 to -5 °C</td></tr><tr class=\"row-8 even\"><td class=\"column-1\"><strong>First Record:</strong></td><td class=\"column-2\">2nd millennium BC</td></tr><tr class=\"row-9 odd\"><td class=\"column-1\"><strong>Recorded By:</strong></td><td class=\"column-2\">Egyptian astronomers</td></tr></tbody>\n"
     ]
    }
   ],
   "source": [
    "t = facts_table.find('tbody')\n",
    "print(t)"
   ]
  },
  {
   "cell_type": "code",
   "execution_count": 42,
   "metadata": {},
   "outputs": [
    {
     "data": {
      "text/html": [
       "<div>\n",
       "<style scoped>\n",
       "    .dataframe tbody tr th:only-of-type {\n",
       "        vertical-align: middle;\n",
       "    }\n",
       "\n",
       "    .dataframe tbody tr th {\n",
       "        vertical-align: top;\n",
       "    }\n",
       "\n",
       "    .dataframe thead th {\n",
       "        text-align: right;\n",
       "    }\n",
       "</style>\n",
       "<table border=\"1\" class=\"dataframe\">\n",
       "  <thead>\n",
       "    <tr style=\"text-align: right;\">\n",
       "      <th></th>\n",
       "      <th>0</th>\n",
       "      <th>1</th>\n",
       "    </tr>\n",
       "  </thead>\n",
       "  <tbody>\n",
       "    <tr>\n",
       "      <th>0</th>\n",
       "      <td>Equatorial Diameter:</td>\n",
       "      <td>6,792 km</td>\n",
       "    </tr>\n",
       "    <tr>\n",
       "      <th>1</th>\n",
       "      <td>Polar Diameter:</td>\n",
       "      <td>6,752 km</td>\n",
       "    </tr>\n",
       "    <tr>\n",
       "      <th>2</th>\n",
       "      <td>Mass:</td>\n",
       "      <td>6.39 × 10^23 kg (0.11 Earths)</td>\n",
       "    </tr>\n",
       "    <tr>\n",
       "      <th>3</th>\n",
       "      <td>Moons:</td>\n",
       "      <td>2 (Phobos &amp; Deimos)</td>\n",
       "    </tr>\n",
       "    <tr>\n",
       "      <th>4</th>\n",
       "      <td>Orbit Distance:</td>\n",
       "      <td>227,943,824 km (1.38 AU)</td>\n",
       "    </tr>\n",
       "    <tr>\n",
       "      <th>5</th>\n",
       "      <td>Orbit Period:</td>\n",
       "      <td>687 days (1.9 years)</td>\n",
       "    </tr>\n",
       "    <tr>\n",
       "      <th>6</th>\n",
       "      <td>Surface Temperature:</td>\n",
       "      <td>-87 to -5 °C</td>\n",
       "    </tr>\n",
       "    <tr>\n",
       "      <th>7</th>\n",
       "      <td>First Record:</td>\n",
       "      <td>2nd millennium BC</td>\n",
       "    </tr>\n",
       "    <tr>\n",
       "      <th>8</th>\n",
       "      <td>Recorded By:</td>\n",
       "      <td>Egyptian astronomers</td>\n",
       "    </tr>\n",
       "  </tbody>\n",
       "</table>\n",
       "</div>"
      ],
      "text/plain": [
       "                      0                              1\n",
       "0  Equatorial Diameter:                       6,792 km\n",
       "1       Polar Diameter:                       6,752 km\n",
       "2                 Mass:  6.39 × 10^23 kg (0.11 Earths)\n",
       "3                Moons:            2 (Phobos & Deimos)\n",
       "4       Orbit Distance:       227,943,824 km (1.38 AU)\n",
       "5         Orbit Period:           687 days (1.9 years)\n",
       "6  Surface Temperature:                   -87 to -5 °C\n",
       "7         First Record:              2nd millennium BC\n",
       "8          Recorded By:           Egyptian astronomers"
      ]
     },
     "execution_count": 42,
     "metadata": {},
     "output_type": "execute_result"
    }
   ],
   "source": [
    "mft = pd.read_html(mars_facts_url)\n",
    "mft[0]"
   ]
  },
  {
   "cell_type": "code",
   "execution_count": 91,
   "metadata": {},
   "outputs": [
    {
     "name": "stdout",
     "output_type": "stream",
     "text": [
      "<h3>Cerberus Hemisphere Enhanced</h3> /search/map/Mars/Viking/cerberus_enhanced\n",
      "<h3>Schiaparelli Hemisphere Enhanced</h3> /search/map/Mars/Viking/schiaparelli_enhanced\n",
      "<h3>Syrtis Major Hemisphere Enhanced</h3> /search/map/Mars/Viking/syrtis_major_enhanced\n",
      "<h3>Valles Marineris Hemisphere Enhanced</h3> /search/map/Mars/Viking/valles_marineris_enhanced\n"
     ]
    }
   ],
   "source": [
    "hemisphere_list = []\n",
    "base_url = 'https://astrogeology.usgs.gov'\n",
    "hemis_urls = f\"{base_url}/search/results?q=hemisphere+enhanced&k1=target&v1=Mars\"\n",
    "hemis_response = requests.get(hemis_urls)\n",
    "hemis_soup = BeautifulSoup(hemis_response.text, 'html.parser')\n",
    "refs = hemis_soup.find_all('a',class_ = 'itemLink') #find_all('h3')\n",
    "hemisphere_image_dict = {}\n",
    "for ref in refs:\n",
    "    #print(ref)\n",
    "    title = ref.find('h3')\n",
    "    hemisphere_image_dict['title'] = title.text\n",
    "    image_url = ref.get('href')\n",
    "    hemisphere_image_dict['img_url']= base_url + image_url\n",
    "    hemisphere_list.append(hemisphere_image_dict.copy())\n",
    "    print(title, image_url)"
   ]
  },
  {
   "cell_type": "code",
   "execution_count": 92,
   "metadata": {},
   "outputs": [
    {
     "data": {
      "text/plain": [
       "[{'title': 'Cerberus Hemisphere Enhanced',\n",
       "  'img_url': 'https://astrogeology.usgs.gov/search/map/Mars/Viking/cerberus_enhanced'},\n",
       " {'title': 'Schiaparelli Hemisphere Enhanced',\n",
       "  'img_url': 'https://astrogeology.usgs.gov/search/map/Mars/Viking/schiaparelli_enhanced'},\n",
       " {'title': 'Syrtis Major Hemisphere Enhanced',\n",
       "  'img_url': 'https://astrogeology.usgs.gov/search/map/Mars/Viking/syrtis_major_enhanced'},\n",
       " {'title': 'Valles Marineris Hemisphere Enhanced',\n",
       "  'img_url': 'https://astrogeology.usgs.gov/search/map/Mars/Viking/valles_marineris_enhanced'}]"
      ]
     },
     "execution_count": 92,
     "metadata": {},
     "output_type": "execute_result"
    }
   ],
   "source": [
    "hemisphere_list"
   ]
  },
  {
   "cell_type": "code",
   "execution_count": null,
   "metadata": {},
   "outputs": [],
   "source": []
  }
 ],
 "metadata": {
  "kernelspec": {
   "display_name": "Python 3",
   "language": "python",
   "name": "python3"
  },
  "language_info": {
   "codemirror_mode": {
    "name": "ipython",
    "version": 3
   },
   "file_extension": ".py",
   "mimetype": "text/x-python",
   "name": "python",
   "nbconvert_exporter": "python",
   "pygments_lexer": "ipython3",
   "version": "3.6.10"
  }
 },
 "nbformat": 4,
 "nbformat_minor": 2
}
